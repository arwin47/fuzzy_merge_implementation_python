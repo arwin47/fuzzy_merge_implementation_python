{
 "cells": [
  {
   "cell_type": "markdown",
   "id": "16a8b444",
   "metadata": {},
   "source": [
    "### Implementation of fuzzy merge in Python with example"
   ]
  },
  {
   "cell_type": "markdown",
   "id": "684e12b5",
   "metadata": {},
   "source": [
    "When two columns don't look not exactly the same and we know that they are the ones that we have to join, we can use fuzzy merge which uses wildcart type join. Below is an example to explain the implementation"
   ]
  },
  {
   "cell_type": "code",
   "execution_count": 5,
   "id": "60d36601",
   "metadata": {},
   "outputs": [
    {
     "name": "stdout",
     "output_type": "stream",
     "text": [
      "  exact_column Currency\n",
      "0        20561      EUR\n",
      "1                   EUR\n",
      "2        20563      EUR\n",
      "3        20564      USD\n",
      "4        12345      INR\n",
      "\n",
      "\n",
      "  fuzzy_column Type Amount Comment\n",
      "0        20561   01    150     bla\n",
      "1     INV20562   03    175     bla\n",
      "2   INV20563BG   04    160     bla\n",
      "3                02    180     bla\n",
      "4      1234567   05    328     sdf\n"
     ]
    }
   ],
   "source": [
    "import pandas as pd\n",
    "exact_df1 = pd.DataFrame({'exact_column': ['20561', '', '20563', '20564','12345'],\n",
    "                    'Currency': ['EUR', 'EUR', 'EUR', 'USD','INR']})\n",
    "fuzzy_df1 = pd.DataFrame({'fuzzy_column': ['20561', 'INV20562', 'INV20563BG', '','1234567'],\n",
    "                    'Type': ['01', '03', '04', '02','05'],\n",
    "                    'Amount': ['150', '175', '160', '180','328'],\n",
    "                    'Comment': ['bla', 'bla', 'bla', 'bla','sdf']})\n",
    "\n",
    "print(exact_df1.head())\n",
    "print(\"\\n\")\n",
    "print(fuzzy_df1.head())"
   ]
  },
  {
   "cell_type": "markdown",
   "id": "b81969bf",
   "metadata": {},
   "source": [
    "The fuzzy_column from the fuzzy_df1 partially matches the exact_column from the exact_df1. below method can be used to join the two dataframes using these columns without any library function."
   ]
  },
  {
   "cell_type": "markdown",
   "id": "6c3ca05b",
   "metadata": {},
   "source": [
    "#### Fuzzy merge implementation"
   ]
  },
  {
   "cell_type": "code",
   "execution_count": 6,
   "id": "eefd52a2",
   "metadata": {},
   "outputs": [
    {
     "data": {
      "text/html": [
       "<div>\n",
       "<style scoped>\n",
       "    .dataframe tbody tr th:only-of-type {\n",
       "        vertical-align: middle;\n",
       "    }\n",
       "\n",
       "    .dataframe tbody tr th {\n",
       "        vertical-align: top;\n",
       "    }\n",
       "\n",
       "    .dataframe thead th {\n",
       "        text-align: right;\n",
       "    }\n",
       "</style>\n",
       "<table border=\"1\" class=\"dataframe\">\n",
       "  <thead>\n",
       "    <tr style=\"text-align: right;\">\n",
       "      <th></th>\n",
       "      <th>exact_column</th>\n",
       "      <th>Currency</th>\n",
       "      <th>Amount</th>\n",
       "    </tr>\n",
       "  </thead>\n",
       "  <tbody>\n",
       "    <tr>\n",
       "      <th>0</th>\n",
       "      <td>20561</td>\n",
       "      <td>EUR</td>\n",
       "      <td>150</td>\n",
       "    </tr>\n",
       "    <tr>\n",
       "      <th>2</th>\n",
       "      <td>20563</td>\n",
       "      <td>EUR</td>\n",
       "      <td>160</td>\n",
       "    </tr>\n",
       "    <tr>\n",
       "      <th>3</th>\n",
       "      <td>20564</td>\n",
       "      <td>USD</td>\n",
       "      <td>Not Found</td>\n",
       "    </tr>\n",
       "    <tr>\n",
       "      <th>4</th>\n",
       "      <td>12345</td>\n",
       "      <td>INR</td>\n",
       "      <td>328</td>\n",
       "    </tr>\n",
       "  </tbody>\n",
       "</table>\n",
       "</div>"
      ],
      "text/plain": [
       "  exact_column Currency     Amount\n",
       "0        20561      EUR        150\n",
       "2        20563      EUR        160\n",
       "3        20564      USD  Not Found\n",
       "4        12345      INR        328"
      ]
     },
     "execution_count": 6,
     "metadata": {},
     "output_type": "execute_result"
    }
   ],
   "source": [
    "## Defining lookup conditions\n",
    "search_from_column = \"exact_column\"   # The one which has to be looked or searched(The exact column)\n",
    "lookup_dataframe = fuzzy_df1   # the one with fuzzy matching columns\n",
    "search_result_column = \"fuzzy_column\"    # the one where search has to be performed\n",
    "fetch_value_column = \"Amount\"    # the one which has to be returned after a search match\n",
    "\n",
    "# EMPTY VALUES IN THE VLOOKUP RELATED COLUMNS WOULD RESULT IN ERROR or UNDESIRABLE OUTPUT, SO REMOVE ROWS WITH EMPTY VALUES\n",
    "exact_df1 = exact_df1.loc[~(exact_df1[search_from_column] == \"\")]   # Removing empty strings\n",
    "fuzzy_df1 = fuzzy_df1.loc[~(fuzzy_df1[search_result_column] == \"\")] # Removing empty strings\n",
    "\n",
    "\n",
    "# Make a copy of final dataframe to keep the looked up column\n",
    "final = exact_df1.copy()\n",
    "\n",
    "\n",
    "# Define lookup function\n",
    "def vlookup_fuzzy(lookup_value):\n",
    "    negative = \"Not Found\"\n",
    "    if(len(lookup_dataframe.loc[lookup_dataframe[search_result_column].str.contains(lookup_value), fetch_value_column]) == 1):\n",
    "        return lookup_dataframe.loc[lookup_dataframe[search_result_column].str.contains(lookup_value), fetch_value_column].iloc[0]\n",
    "    else:\n",
    "        return negative\n",
    "\n",
    "    \n",
    "# Applying this function to the final dataframe\n",
    "final[fetch_value_column] = final[search_from_column].apply(vlookup_fuzzy)\n",
    "\n",
    "# Print Results\n",
    "final.head()"
   ]
  }
 ],
 "metadata": {
  "kernelspec": {
   "display_name": "Python 3",
   "language": "python",
   "name": "python3"
  },
  "language_info": {
   "codemirror_mode": {
    "name": "ipython",
    "version": 3
   },
   "file_extension": ".py",
   "mimetype": "text/x-python",
   "name": "python",
   "nbconvert_exporter": "python",
   "pygments_lexer": "ipython3",
   "version": "3.9.5"
  }
 },
 "nbformat": 4,
 "nbformat_minor": 5
}
